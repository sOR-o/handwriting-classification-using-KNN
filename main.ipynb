{
 "cells": [
  {
   "cell_type": "code",
   "execution_count": 15,
   "id": "4d458016-3eb4-44be-9501-67f1a29a63c1",
   "metadata": {},
   "outputs": [],
   "source": [
    "import numpy as np\n",
    "import matplotlib.pyplot as plt\n",
    "from sklearn.datasets import make_blobs\n",
    "from sklearn.model_selection import train_test_split\n",
    "from sklearn.neighbors import KNeighborsClassifier"
   ]
  },
  {
   "cell_type": "code",
   "execution_count": 16,
   "id": "e74afb93-805f-4295-80ca-66692c88065b",
   "metadata": {},
   "outputs": [],
   "source": [
    "data = np.load('dataset.npy')"
   ]
  },
  {
   "cell_type": "code",
   "execution_count": 17,
   "id": "1ebc85a8-13cf-4060-90c7-bb083880d862",
   "metadata": {},
   "outputs": [],
   "source": [
    "X = data[:, 1:]\n",
    "y = data[:, 0]"
   ]
  },
  {
   "cell_type": "code",
   "execution_count": 18,
   "id": "edb965ec-1745-4b41-a2b5-9d60e4836321",
   "metadata": {},
   "outputs": [],
   "source": [
    "X_train, X_test, y_train, y_test = train_test_split(X, y, test_size=0.33, random_state=42)"
   ]
  },
  {
   "cell_type": "code",
   "execution_count": null,
   "id": "8054d3bf-a44f-4545-87bb-2549cf70e9ba",
   "metadata": {},
   "outputs": [],
   "source": [
    "#PRE-DEFINED MODEL"
   ]
  },
  {
   "cell_type": "code",
   "execution_count": 19,
   "id": "4b1cad94-1ae5-4a1a-9151-7a0861a502bb",
   "metadata": {},
   "outputs": [
    {
     "data": {
      "text/html": [
       "<style>#sk-container-id-1 {color: black;}#sk-container-id-1 pre{padding: 0;}#sk-container-id-1 div.sk-toggleable {background-color: white;}#sk-container-id-1 label.sk-toggleable__label {cursor: pointer;display: block;width: 100%;margin-bottom: 0;padding: 0.3em;box-sizing: border-box;text-align: center;}#sk-container-id-1 label.sk-toggleable__label-arrow:before {content: \"▸\";float: left;margin-right: 0.25em;color: #696969;}#sk-container-id-1 label.sk-toggleable__label-arrow:hover:before {color: black;}#sk-container-id-1 div.sk-estimator:hover label.sk-toggleable__label-arrow:before {color: black;}#sk-container-id-1 div.sk-toggleable__content {max-height: 0;max-width: 0;overflow: hidden;text-align: left;background-color: #f0f8ff;}#sk-container-id-1 div.sk-toggleable__content pre {margin: 0.2em;color: black;border-radius: 0.25em;background-color: #f0f8ff;}#sk-container-id-1 input.sk-toggleable__control:checked~div.sk-toggleable__content {max-height: 200px;max-width: 100%;overflow: auto;}#sk-container-id-1 input.sk-toggleable__control:checked~label.sk-toggleable__label-arrow:before {content: \"▾\";}#sk-container-id-1 div.sk-estimator input.sk-toggleable__control:checked~label.sk-toggleable__label {background-color: #d4ebff;}#sk-container-id-1 div.sk-label input.sk-toggleable__control:checked~label.sk-toggleable__label {background-color: #d4ebff;}#sk-container-id-1 input.sk-hidden--visually {border: 0;clip: rect(1px 1px 1px 1px);clip: rect(1px, 1px, 1px, 1px);height: 1px;margin: -1px;overflow: hidden;padding: 0;position: absolute;width: 1px;}#sk-container-id-1 div.sk-estimator {font-family: monospace;background-color: #f0f8ff;border: 1px dotted black;border-radius: 0.25em;box-sizing: border-box;margin-bottom: 0.5em;}#sk-container-id-1 div.sk-estimator:hover {background-color: #d4ebff;}#sk-container-id-1 div.sk-parallel-item::after {content: \"\";width: 100%;border-bottom: 1px solid gray;flex-grow: 1;}#sk-container-id-1 div.sk-label:hover label.sk-toggleable__label {background-color: #d4ebff;}#sk-container-id-1 div.sk-serial::before {content: \"\";position: absolute;border-left: 1px solid gray;box-sizing: border-box;top: 0;bottom: 0;left: 50%;z-index: 0;}#sk-container-id-1 div.sk-serial {display: flex;flex-direction: column;align-items: center;background-color: white;padding-right: 0.2em;padding-left: 0.2em;position: relative;}#sk-container-id-1 div.sk-item {position: relative;z-index: 1;}#sk-container-id-1 div.sk-parallel {display: flex;align-items: stretch;justify-content: center;background-color: white;position: relative;}#sk-container-id-1 div.sk-item::before, #sk-container-id-1 div.sk-parallel-item::before {content: \"\";position: absolute;border-left: 1px solid gray;box-sizing: border-box;top: 0;bottom: 0;left: 50%;z-index: -1;}#sk-container-id-1 div.sk-parallel-item {display: flex;flex-direction: column;z-index: 1;position: relative;background-color: white;}#sk-container-id-1 div.sk-parallel-item:first-child::after {align-self: flex-end;width: 50%;}#sk-container-id-1 div.sk-parallel-item:last-child::after {align-self: flex-start;width: 50%;}#sk-container-id-1 div.sk-parallel-item:only-child::after {width: 0;}#sk-container-id-1 div.sk-dashed-wrapped {border: 1px dashed gray;margin: 0 0.4em 0.5em 0.4em;box-sizing: border-box;padding-bottom: 0.4em;background-color: white;}#sk-container-id-1 div.sk-label label {font-family: monospace;font-weight: bold;display: inline-block;line-height: 1.2em;}#sk-container-id-1 div.sk-label-container {text-align: center;}#sk-container-id-1 div.sk-container {/* jupyter's `normalize.less` sets `[hidden] { display: none; }` but bootstrap.min.css set `[hidden] { display: none !important; }` so we also need the `!important` here to be able to override the default hidden behavior on the sphinx rendered scikit-learn.org. See: https://github.com/scikit-learn/scikit-learn/issues/21755 */display: inline-block !important;position: relative;}#sk-container-id-1 div.sk-text-repr-fallback {display: none;}</style><div id=\"sk-container-id-1\" class=\"sk-top-container\"><div class=\"sk-text-repr-fallback\"><pre>KNeighborsClassifier()</pre><b>In a Jupyter environment, please rerun this cell to show the HTML representation or trust the notebook. <br />On GitHub, the HTML representation is unable to render, please try loading this page with nbviewer.org.</b></div><div class=\"sk-container\" hidden><div class=\"sk-item\"><div class=\"sk-estimator sk-toggleable\"><input class=\"sk-toggleable__control sk-hidden--visually\" id=\"sk-estimator-id-1\" type=\"checkbox\" checked><label for=\"sk-estimator-id-1\" class=\"sk-toggleable__label sk-toggleable__label-arrow\">KNeighborsClassifier</label><div class=\"sk-toggleable__content\"><pre>KNeighborsClassifier()</pre></div></div></div></div></div>"
      ],
      "text/plain": [
       "KNeighborsClassifier()"
      ]
     },
     "execution_count": 19,
     "metadata": {},
     "output_type": "execute_result"
    }
   ],
   "source": [
    "model = KNeighborsClassifier()\n",
    "model.fit(X_train, y_train)"
   ]
  },
  {
   "cell_type": "code",
   "execution_count": 20,
   "id": "0bc269ed-df26-40cd-a465-253b603810a8",
   "metadata": {},
   "outputs": [
    {
     "data": {
      "text/plain": [
       "array([1, 7, 0, 9, 4, 5, 4, 6, 9, 2], dtype=uint8)"
      ]
     },
     "execution_count": 20,
     "metadata": {},
     "output_type": "execute_result"
    }
   ],
   "source": [
    "model.predict(X_test[:10])"
   ]
  },
  {
   "cell_type": "code",
   "execution_count": 21,
   "id": "f6a00d9b-e72a-4746-9273-03e881d481dd",
   "metadata": {},
   "outputs": [
    {
     "data": {
      "text/plain": [
       "array([7, 7, 0, 9, 4, 5, 4, 6, 9, 2], dtype=uint8)"
      ]
     },
     "execution_count": 21,
     "metadata": {},
     "output_type": "execute_result"
    }
   ],
   "source": [
    "y_test[:10]"
   ]
  },
  {
   "cell_type": "code",
   "execution_count": 22,
   "id": "bdabd0c9-041b-47d5-9c3d-bd6b49b3188a",
   "metadata": {},
   "outputs": [],
   "source": [
    "#INSIDE KNN ALGO."
   ]
  },
  {
   "cell_type": "code",
   "execution_count": 23,
   "id": "02d2d155-77e3-4c7d-b9f4-9efa1eb88c2f",
   "metadata": {},
   "outputs": [],
   "source": [
    "class CustomKNN:\n",
    "    \"\"\"\n",
    "    Custom K-Nearest Neighbors (KNN) classifier.\n",
    "\n",
    "    Parameters:\n",
    "    - n_neighbours (int, optional): The number of neighbors to consider for classification. Default is 5.\n",
    "\n",
    "    Attributes:\n",
    "    - n_neighbours (int): The number of neighbors to consider for classification.\n",
    "\n",
    "    Methods:\n",
    "    - fit(X, y): Train the KNN classifier with input data and labels.\n",
    "    - predict_point(point): Predict the class of a single data point.\n",
    "    - predict(X): Predict the classes of an array of data points.\n",
    "    - score(X, y): Calculate the accuracy score of the classifier on the given data.\n",
    "\n",
    "    Example usage:\n",
    "    >>> knn = CustomKNN(n_neighbours=3)\n",
    "    >>> knn.fit(X_train, y_train)\n",
    "    >>> predictions = knn.predict(X_test)\n",
    "    >>> accuracy = knn.score(X_test, y_test)\n",
    "    \"\"\"\n",
    "\n",
    "    def __init__(self, n_neighbours=5):\n",
    "        self.n_neighbours = n_neighbours\n",
    "\n",
    "    def fit(self, X, y):\n",
    "        \"\"\"\n",
    "        Train the KNN classifier with input data and labels.\n",
    "\n",
    "        Parameters:\n",
    "        - X (numpy.ndarray): The training data.\n",
    "        - y (numpy.ndarray): The corresponding labels.\n",
    "        \"\"\"\n",
    "        self._X = (X - X.mean()) / X.std()  # standardization\n",
    "        self._y = y\n",
    "\n",
    "    def predict_point(self, point):\n",
    "        \"\"\"\n",
    "        Predict the class of a single data point.\n",
    "\n",
    "        Parameters:\n",
    "        - point (numpy.ndarray): The data point to classify.\n",
    "\n",
    "        Returns:\n",
    "        - int: The predicted class.\n",
    "        \"\"\"\n",
    "        list_dist = []\n",
    "        \n",
    "        for x_point, y_point in zip(self._X, self._y):\n",
    "            dist_point = ((point - x_point) ** 2).sum()\n",
    "            list_dist.append([dist_point, y_point])\n",
    "            \n",
    "        sorted_dist = sorted(list_dist)\n",
    "        top_k = sorted_dist[:self.n_neighbours]\n",
    "        items, counts = np.unique(np.array(top_k)[:, 1], return_counts=True)\n",
    "        ans = items[np.argmax(counts)]\n",
    "        \n",
    "        return ans\n",
    "\n",
    "    def predict(self, X):\n",
    "        \"\"\"\n",
    "        Predict the classes of an array of data points.\n",
    "\n",
    "        Parameters:\n",
    "        - X (numpy.ndarray): The array of data points to classify.\n",
    "\n",
    "        Returns:\n",
    "        - numpy.ndarray: An array of predicted classes.\n",
    "        \"\"\"\n",
    "        results = []\n",
    "        \n",
    "        X = (X - X.mean()) / X.std()\n",
    "        \n",
    "        for point in X:\n",
    "            results.append(self.predict_point(point))\n",
    "            \n",
    "        return np.array(results, dtype=int)\n",
    "\n",
    "    def score(self, X, y):\n",
    "        \"\"\"\n",
    "        Calculate the accuracy score of the classifier on the given data.\n",
    "\n",
    "        Parameters:\n",
    "        - X (numpy.ndarray): The input data for scoring.\n",
    "        - y (numpy.ndarray): The true labels for scoring.\n",
    "\n",
    "        Returns:\n",
    "        - float: The accuracy score.\n",
    "        \"\"\"\n",
    "        return sum(self.predict(X) == y) / len(y)\n"
   ]
  },
  {
   "cell_type": "code",
   "execution_count": 24,
   "id": "83f6b35c-ed4d-4598-b3a8-d908a20517a5",
   "metadata": {},
   "outputs": [],
   "source": [
    "m2 = CustomKNN()\n",
    "m2.fit(X_train, y_train)"
   ]
  },
  {
   "cell_type": "code",
   "execution_count": null,
   "id": "0fddcb16-d4e9-42d0-880e-3a6b2b0c4da1",
   "metadata": {},
   "outputs": [],
   "source": [
    "\"\"\" Comparing out custom made model's output with actual output \"\"\""
   ]
  },
  {
   "cell_type": "code",
   "execution_count": 27,
   "id": "eec22ae7-d6e9-4c59-98bb-c44d0e880e1d",
   "metadata": {},
   "outputs": [
    {
     "name": "stdout",
     "output_type": "stream",
     "text": [
      "[1 7 0 9 4 5 4 6 9 2]\n",
      "[7 7 0 9 4 5 4 6 9 2]\n"
     ]
    }
   ],
   "source": [
    "print(m2.predict(X_test[:10]), y_test[:10], sep = '\\n')"
   ]
  },
  {
   "cell_type": "code",
   "execution_count": null,
   "id": "fba19a89-960d-456d-9f54-9a88edd11d88",
   "metadata": {},
   "outputs": [],
   "source": [
    "\"\"\" Accuracy \"\"\""
   ]
  },
  {
   "cell_type": "code",
   "execution_count": 28,
   "id": "b0fb2fe3-bce1-49d9-9642-5f3c5cb233ca",
   "metadata": {},
   "outputs": [
    {
     "data": {
      "text/plain": [
       "0.95"
      ]
     },
     "execution_count": 28,
     "metadata": {},
     "output_type": "execute_result"
    }
   ],
   "source": [
    "m2.score(X_test[:100], y_test[:100])"
   ]
  }
 ],
 "metadata": {
  "kernelspec": {
   "display_name": "Python 3 (ipykernel)",
   "language": "python",
   "name": "python3"
  },
  "language_info": {
   "codemirror_mode": {
    "name": "ipython",
    "version": 3
   },
   "file_extension": ".py",
   "mimetype": "text/x-python",
   "name": "python",
   "nbconvert_exporter": "python",
   "pygments_lexer": "ipython3",
   "version": "3.10.13"
  }
 },
 "nbformat": 4,
 "nbformat_minor": 5
}
